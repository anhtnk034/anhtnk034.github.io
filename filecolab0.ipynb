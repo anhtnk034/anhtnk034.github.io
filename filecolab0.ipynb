{
  "nbformat": 4,
  "nbformat_minor": 0,
  "metadata": {
    "colab": {
      "name": "Untitled0.ipynb",
      "provenance": [],
      "authorship_tag": "ABX9TyOwNG+4nDaKhOrnIWwr/AiM",
      "include_colab_link": true
    },
    "kernelspec": {
      "name": "python3",
      "display_name": "Python 3"
    }
  },
  "cells": [
    {
      "cell_type": "markdown",
      "metadata": {
        "id": "view-in-github",
        "colab_type": "text"
      },
      "source": [
        "<a href=\"https://colab.research.google.com/github/anhtnk034/anhtnk034.github.io/blob/master/filecolab0.ipynb\" target=\"_parent\"><img src=\"https://colab.research.google.com/assets/colab-badge.svg\" alt=\"Open In Colab\"/></a>"
      ]
    },
    {
      "cell_type": "code",
      "metadata": {
        "id": "XLXGitrrAtGW",
        "colab": {
          "base_uri": "https://localhost:8080/"
        },
        "outputId": "29538d60-a65c-4ba3-fbed-ba340f423c2c"
      },
      "source": [
        "!ls /bin"
      ],
      "execution_count": null,
      "outputs": [
        {
          "output_type": "stream",
          "text": [
            "bash\t       hostname       su\n",
            "bunzip2        journalctl     sync\n",
            "bzcat\t       kill\t      systemctl\n",
            "bzcmp\t       kmod\t      systemd\n",
            "bzdiff\t       less\t      systemd-ask-password\n",
            "bzegrep        lessecho       systemd-escape\n",
            "bzexe\t       lessfile       systemd-hwdb\n",
            "bzfgrep        lesskey\t      systemd-inhibit\n",
            "bzgrep\t       lesspipe       systemd-machine-id-setup\n",
            "bzip2\t       ln\t      systemd-notify\n",
            "bzip2recover   login\t      systemd-sysusers\n",
            "bzless\t       loginctl       systemd-tmpfiles\n",
            "bzmore\t       ls\t      systemd-tty-ask-password-agent\n",
            "cat\t       lsblk\t      tar\n",
            "chgrp\t       lsmod\t      tempfile\n",
            "chmod\t       mkdir\t      touch\n",
            "chown\t       mknod\t      true\n",
            "cp\t       mktemp\t      udevadm\n",
            "dash\t       more\t      ulockmgr_server\n",
            "date\t       mount\t      umount\n",
            "dd\t       mountpoint     uname\n",
            "df\t       mv\t      uncompress\n",
            "dir\t       networkctl     vdir\n",
            "dmesg\t       nisdomainname  wdctl\n",
            "dnsdomainname  pidof\t      which\n",
            "domainname     ps\t      ypdomainname\n",
            "echo\t       pwd\t      zcat\n",
            "egrep\t       rbash\t      zcmp\n",
            "false\t       readlink       zdiff\n",
            "fgrep\t       rm\t      zegrep\n",
            "findmnt        rmdir\t      zfgrep\n",
            "fuser\t       run-parts      zforce\n",
            "fusermount     sed\t      zgrep\n",
            "grep\t       sh\t      zless\n",
            "gunzip\t       sh.distrib     zmore\n",
            "gzexe\t       sleep\t      znew\n",
            "gzip\t       stty\n"
          ],
          "name": "stdout"
        }
      ]
    },
    {
      "cell_type": "code",
      "metadata": {
        "id": "PzCQtL5HA_K9",
        "colab": {
          "base_uri": "https://localhost:8080/"
        },
        "outputId": "b7066721-e317-43c7-fa9e-86633452c71e"
      },
      "source": [
        "! wget https: //data.cityofchi Chicago.org/api/views/ijzp-q8t2/rows.csv?accessType=DOWNLOAD"
      ],
      "execution_count": null,
      "outputs": [
        {
          "output_type": "stream",
          "text": [
            "--2020-11-16 08:07:32--  ftp://https/\n",
            "           => ‘.listing’\n",
            "Resolving https (https)... failed: Name or service not known.\n",
            "wget: unable to resolve host address ‘https’\n",
            "//data.cityofchi: Scheme missing.\n",
            "--2020-11-16 08:07:32--  http://chicago.org/api/views/ijzp-q8t2/rows.csv?accessType=DOWNLOAD\n",
            "Resolving chicago.org (chicago.org)... 192.241.243.10\n",
            "Connecting to chicago.org (chicago.org)|192.241.243.10|:80... connected.\n",
            "HTTP request sent, awaiting response... 301 Moved Permanently\n",
            "Location: https://chicago.orgapi/views/ijzp-q8t2/rows.csv?accessType=DOWNLOAD [following]\n",
            "--2020-11-16 08:07:33--  https://chicago.orgapi/views/ijzp-q8t2/rows.csv?accessType=DOWNLOAD\n",
            "Resolving chicago.orgapi (chicago.orgapi)... failed: Name or service not known.\n",
            "wget: unable to resolve host address ‘chicago.orgapi’\n"
          ],
          "name": "stdout"
        }
      ]
    },
    {
      "cell_type": "code",
      "metadata": {
        "id": "Ea5DzasfBMIx",
        "colab": {
          "base_uri": "https://localhost:8080/"
        },
        "outputId": "e58aa60f-7f29-43ec-bc9d-207f564685f1"
      },
      "source": [
        "!wget https: //data.cityofchi Chicago.org/api/views/ijzp-q8t2/rows.csv?accessType=DOWNLOAD"
      ],
      "execution_count": null,
      "outputs": [
        {
          "output_type": "stream",
          "text": [
            "--2020-11-16 08:07:33--  ftp://https/\n",
            "           => ‘.listing’\n",
            "Resolving https (https)... failed: Name or service not known.\n",
            "wget: unable to resolve host address ‘https’\n",
            "//data.cityofchi: Scheme missing.\n",
            "--2020-11-16 08:07:33--  http://chicago.org/api/views/ijzp-q8t2/rows.csv?accessType=DOWNLOAD\n",
            "Resolving chicago.org (chicago.org)... 192.241.243.10\n",
            "Connecting to chicago.org (chicago.org)|192.241.243.10|:80... connected.\n",
            "HTTP request sent, awaiting response... 301 Moved Permanently\n",
            "Location: https://chicago.orgapi/views/ijzp-q8t2/rows.csv?accessType=DOWNLOAD [following]\n",
            "--2020-11-16 08:07:33--  https://chicago.orgapi/views/ijzp-q8t2/rows.csv?accessType=DOWNLOAD\n",
            "Resolving chicago.orgapi (chicago.orgapi)... failed: Name or service not known.\n",
            "wget: unable to resolve host address ‘chicago.orgapi’\n"
          ],
          "name": "stdout"
        }
      ]
    },
    {
      "cell_type": "code",
      "metadata": {
        "id": "u9f8VPkCBsMG",
        "colab": {
          "base_uri": "https://localhost:8080/"
        },
        "outputId": "31297607-099b-4c08-c13f-ab148f2c3f81"
      },
      "source": [
        "!git\n"
      ],
      "execution_count": null,
      "outputs": [
        {
          "output_type": "stream",
          "text": [
            "usage: git [--version] [--help] [-C <path>] [-c <name>=<value>]\n",
            "           [--exec-path[=<path>]] [--html-path] [--man-path] [--info-path]\n",
            "           [-p | --paginate | --no-pager] [--no-replace-objects] [--bare]\n",
            "           [--git-dir=<path>] [--work-tree=<path>] [--namespace=<name>]\n",
            "           <command> [<args>]\n",
            "\n",
            "These are common Git commands used in various situations:\n",
            "\n",
            "start a working area (see also: git help tutorial)\n",
            "   clone      Clone a repository into a new directory\n",
            "   init       Create an empty Git repository or reinitialize an existing one\n",
            "\n",
            "work on the current change (see also: git help everyday)\n",
            "   add        Add file contents to the index\n",
            "   mv         Move or rename a file, a directory, or a symlink\n",
            "   reset      Reset current HEAD to the specified state\n",
            "   rm         Remove files from the working tree and from the index\n",
            "\n",
            "examine the history and state (see also: git help revisions)\n",
            "   bisect     Use binary search to find the commit that introduced a bug\n",
            "   grep       Print lines matching a pattern\n",
            "   log        Show commit logs\n",
            "   show       Show various types of objects\n",
            "   status     Show the working tree status\n",
            "\n",
            "grow, mark and tweak your common history\n",
            "   branch     List, create, or delete branches\n",
            "   checkout   Switch branches or restore working tree files\n",
            "   commit     Record changes to the repository\n",
            "   diff       Show changes between commits, commit and working tree, etc\n",
            "   merge      Join two or more development histories together\n",
            "   rebase     Reapply commits on top of another base tip\n",
            "   tag        Create, list, delete or verify a tag object signed with GPG\n",
            "\n",
            "collaborate (see also: git help workflows)\n",
            "   fetch      Download objects and refs from another repository\n",
            "   pull       Fetch from and integrate with another repository or a local branch\n",
            "   push       Update remote refs along with associated objects\n",
            "\n",
            "'git help -a' and 'git help -g' list available subcommands and some\n",
            "concept guides. See 'git help <command>' or 'git help <concept>'\n",
            "to read about a specific subcommand or concept.\n"
          ],
          "name": "stdout"
        }
      ]
    },
    {
      "cell_type": "code",
      "metadata": {
        "id": "ACkEMm7iBvjN",
        "colab": {
          "base_uri": "https://localhost:8080/"
        },
        "outputId": "84836c84-cb03-42ed-bf98-4167f73d36b4"
      },
      "source": [
        "!wget https://data.cityofchicago.org/api/views/ijzp-q8t2/rows.csv?accessType=DOWNLOAD"
      ],
      "execution_count": null,
      "outputs": [
        {
          "output_type": "stream",
          "text": [
            "--2020-11-16 08:16:56--  https://data.cityofchicago.org/api/views/ijzp-q8t2/rows.csv?accessType=DOWNLOAD\n",
            "Resolving data.cityofchicago.org (data.cityofchicago.org)... 52.206.68.26, 52.206.140.205, 52.206.140.199\n",
            "Connecting to data.cityofchicago.org (data.cityofchicago.org)|52.206.68.26|:443... connected.\n",
            "HTTP request sent, awaiting response... 200 OK\n",
            "Length: unspecified [text/csv]\n",
            "Saving to: ‘rows.csv?accessType=DOWNLOAD.4’\n",
            "\n",
            "rows.csv?accessType     [              <=>   ]   1.59G  3.06MB/s    in 8m 41s  \n",
            "\n",
            "2020-11-16 08:25:38 (3.12 MB/s) - ‘rows.csv?accessType=DOWNLOAD.4’ saved [1704325556]\n",
            "\n"
          ],
          "name": "stdout"
        }
      ]
    },
    {
      "cell_type": "code",
      "metadata": {
        "id": "4gSlz05REwaV",
        "colab": {
          "base_uri": "https://localhost:8080/"
        },
        "outputId": "8b3dda61-2ed4-4692-cbc9-05a92a0e8188"
      },
      "source": [
        "!wget https://archive.ics.uci.edu/ml/machine-learning-databases/adult/adult.data"
      ],
      "execution_count": null,
      "outputs": [
        {
          "output_type": "stream",
          "text": [
            "--2020-11-16 08:08:33--  https://archive.ics.uci.edu/ml/machine-learning-databases/adult/adult.data\n",
            "Resolving archive.ics.uci.edu (archive.ics.uci.edu)... 128.195.10.252\n",
            "Connecting to archive.ics.uci.edu (archive.ics.uci.edu)|128.195.10.252|:443... connected.\n",
            "HTTP request sent, awaiting response... 200 OK\n",
            "Length: 3974305 (3.8M) [application/x-httpd-php]\n",
            "Saving to: ‘adult.data.1’\n",
            "\n",
            "adult.data.1        100%[===================>]   3.79M  3.65MB/s    in 1.0s    \n",
            "\n",
            "2020-11-16 08:08:35 (3.65 MB/s) - ‘adult.data.1’ saved [3974305/3974305]\n",
            "\n"
          ],
          "name": "stdout"
        }
      ]
    },
    {
      "cell_type": "code",
      "metadata": {
        "id": "SCI8iS9LE5T2",
        "colab": {
          "base_uri": "https://localhost:8080/"
        },
        "outputId": "3b5de0ad-d565-43c1-8b42-cddb2d76f3b9"
      },
      "source": [
        "import time\n",
        "print(time.ctime())"
      ],
      "execution_count": null,
      "outputs": [
        {
          "output_type": "stream",
          "text": [
            "Mon Nov 16 08:08:35 2020\n"
          ],
          "name": "stdout"
        }
      ]
    },
    {
      "cell_type": "code",
      "metadata": {
        "id": "jaA3zy2WFWFn",
        "colab": {
          "base_uri": "https://localhost:8080/"
        },
        "outputId": "06e3d1a4-7478-4100-df95-1cb83e003cc8"
      },
      "source": [
        "time.sleep(5)\n",
        "print(time.ctime())"
      ],
      "execution_count": null,
      "outputs": [
        {
          "output_type": "stream",
          "text": [
            "Mon Nov 16 08:08:40 2020\n"
          ],
          "name": "stdout"
        }
      ]
    },
    {
      "cell_type": "code",
      "metadata": {
        "id": "VuBhCLowFhUT"
      },
      "source": [
        ""
      ],
      "execution_count": null,
      "outputs": []
    },
    {
      "cell_type": "markdown",
      "metadata": {
        "id": "NqUABdWcGgdF"
      },
      "source": [
        "\n",
        "$x^2+1$\n",
        "\n",
        "\n",
        "\n",
        "\n"
      ]
    },
    {
      "cell_type": "code",
      "metadata": {
        "id": "qCQcYPcoHXyi",
        "colab": {
          "base_uri": "https://localhost:8080/"
        },
        "outputId": "77b94357-997e-4e75-fc95-1fa384446961"
      },
      "source": [
        "x = int(input('Mời bạn nhập số :'))\n",
        "kq = x*x + 1\n",
        "print(kq)"
      ],
      "execution_count": null,
      "outputs": [
        {
          "output_type": "stream",
          "text": [
            "Mời bạn nhập số :445\n",
            "198026\n"
          ],
          "name": "stdout"
        }
      ]
    },
    {
      "cell_type": "markdown",
      "metadata": {
        "id": "2Nye3GSCIlUQ"
      },
      "source": [
        "$3x_1 +6x+2 = x+3 =< 28$\n"
      ]
    },
    {
      "cell_type": "markdown",
      "metadata": {
        "id": "RHB3y3mXJLeQ"
      },
      "source": [
        "$7x_1 +3x_2 + 2x_3 =< 37 $"
      ]
    },
    {
      "cell_type": "markdown",
      "metadata": {
        "id": "nMTUdwW-JYmm"
      },
      "source": [
        "$4x_1 +5x_2 + 2x_3 =< 19$"
      ]
    },
    {
      "cell_type": "markdown",
      "metadata": {
        "id": "1AWYJdF0J3mN"
      },
      "source": [
        "$u_i(t) = x_i(t) + \\beta(\\hat{x}(t) - x_i(t)) + \\beta \\sum_{k = 1}^{n_v}(x_{i1,k}(t) - x_{i2,k}(t))$"
      ]
    },
    {
      "cell_type": "code",
      "metadata": {
        "id": "5i65wtDcKjGD"
      },
      "source": [
        ""
      ],
      "execution_count": null,
      "outputs": []
    },
    {
      "cell_type": "markdown",
      "metadata": {
        "id": "bmtdUBndMKR3"
      },
      "source": [
        "$ f(x_1,x_2) = 20 + e -20exp(-0.2 \\sqrt{\\frac{1}{n}(x_1^2 + x_2^2)}) - exp(\\frac{1}{n}(có(2\\pi x_1))$"
      ]
    },
    {
      "cell_type": "code",
      "metadata": {
        "id": "kQw0AzzZMw3N"
      },
      "source": [
        ""
      ],
      "execution_count": null,
      "outputs": []
    }
  ]
}